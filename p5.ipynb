{
 "cells": [
  {
   "cell_type": "code",
   "execution_count": 1,
   "metadata": {},
   "outputs": [],
   "source": [
    "import pandas as pd\n",
    "import numpy as np\n",
    "from datetime import datetime\n",
    "\n",
    "def energia_diaria(archivo_json):\n",
    "   \n",
    "    # Cargar el \"DataFrame\"\n",
    "    df = pd.read_json(archivo_json) \n",
    "\n",
    "    # Convertir en un array de NumPy\n",
    "    datos = np.array(df)  \n",
    "\n",
    "    # Crear vector con todos los valores horarios de demanda\n",
    "    demanda = []\n",
    "\n",
    "    # Extraer la magnitud de la demanda para todas las horas\n",
    "    for hora in range(len(datos)):\n",
    "        demanda.append(datos[hora][0]['MW'])\n",
    "\n",
    "    # Separar las magnitudes en grupos de 24 (24 h)\n",
    "    demanda = np.split(np.array(demanda), len(demanda) / 24)\n",
    "\n",
    "    # Crear vector para almacenar la energía a partir de la demanda\n",
    "    energia = []\n",
    "\n",
    "    # Calcular la energía diaria por la regla del trapecio\n",
    "    for dia in range(len(demanda)):\n",
    "        E = round(np.trapz(demanda[dia]), 2)\n",
    "        energia.append(E)\n",
    "\n",
    "    return energia \n"
   ]
  },
  {
   "cell_type": "code",
   "execution_count": 2,
   "metadata": {},
   "outputs": [],
   "source": [
    "import numpy as np\n",
    "\n",
    "def definicion_estados(vector_energia, estados):\n",
    " \n",
    "    minimo = np.min(vector_energia)\n",
    "    maximo = np.max(vector_energia)\n",
    "    segmento = (maximo - minimo)/estados\n",
    "    vector_estados = np.empty(len(vector_energia))\n",
    "    \n",
    "    for i, dia in enumerate(vector_energia):\n",
    "        diferencia = dia - minimo\n",
    "        proporcion = diferencia // segmento\n",
    "        vector_estados[i] = proporcion + 1\n",
    "        \n",
    "    return vector_estados"
   ]
  },
  {
   "cell_type": "code",
   "execution_count": 9,
   "metadata": {},
   "outputs": [],
   "source": [
    "import numpy as np\n",
    "\n",
    "def probabilidad_transicion(vector_estados, numero_estados, presente, futuro):\n",
    "\n",
    "    \n",
    "    # Recorrer el vector_estados\n",
    "    ocurrencias_i = 0\n",
    "    ocurrencias_i_j = 0\n",
    "    for i, estado in enumerate(vector_estados[0:-1]):\n",
    "        if estado == presente:\n",
    "            ocurrencias_i += 1\n",
    "            if vector_estados[i+1] == futuro:\n",
    "                ocurrencias_i_j += 1\n",
    "    \n",
    "    # Cálculo de la probabilidad\n",
    "    probabilidad = ocurrencias_i_j / ocurrencias_i\n",
    "    \n",
    "    return probabilidad"
   ]
  },
  {
   "cell_type": "markdown",
   "metadata": {},
   "source": []
  },
  {
   "cell_type": "code",
   "execution_count": 12,
   "metadata": {},
   "outputs": [
    {
     "name": "stdout",
     "output_type": "stream",
     "text": [
      "[[0.     0.     0.     0.     0.     1.     0.     0.     0.     0.    ]\n",
      " [0.     0.     0.     0.5    0.     0.5    0.     0.     0.     0.    ]\n",
      " [0.     0.     0.     0.     0.     0.     0.7143 0.2857 0.     0.    ]\n",
      " [0.     0.0526 0.0526 0.     0.     0.     0.2105 0.5263 0.1579 0.    ]\n",
      " [0.     0.     0.     0.0909 0.     0.     0.0909 0.1818 0.5455 0.0909]\n",
      " [0.     0.     0.2941 0.4118 0.     0.0588 0.0588 0.     0.     0.1765]\n",
      " [0.     0.0333 0.0333 0.3    0.2    0.0333 0.     0.3667 0.     0.0333]\n",
      " [0.     0.     0.     0.0135 0.0676 0.1351 0.1081 0.473  0.1892 0.0135]\n",
      " [0.     0.     0.     0.     0.     0.0545 0.1818 0.1818 0.4    0.1818]\n",
      " [0.     0.     0.     0.     0.     0.     0.027  0.1351 0.2432 0.5676]]\n",
      "Pi_ij = 1.0909090909090908\n"
     ]
    }
   ],
   "source": [
    "# import matplotlib.pyplot as plt\n",
    "\n",
    "# Importar los datos y calcular la energía diaria\n",
    "vector_energia = energia_diaria('demanda_2019.json')\n",
    "\n",
    "# Definir los estados\n",
    "numero_estados = 10\n",
    "vector_estados = definicion_estados(vector_energia, numero_estados)\n",
    "#print(vector_estados)\n",
    "\n",
    "states = [1,2,3,4,5,6,7,8,9,10]\n",
    "\n",
    "trans = np.zeros((len(states), len(states)))\n",
    "\n",
    "filas = 1\n",
    "columnas = 1\n",
    "\n",
    "for i, filas in enumerate(states):\n",
    "    for j, columnas in enumerate(states):\n",
    "        Pi_J = probabilidad_transicion(vector_estados, numero_estados, filas, columnas)\n",
    "        trans[i,j] = Pi_J\n",
    "        \n",
    "print (np.round(trans,4))\n",
    "\n",
    "# Graficar la evolución de los estados\n",
    "#plt.plot(vector_estados)\n",
    "#plt.xlabel('Día del año')\n",
    "#plt.ylabel('Consumo de energía (estado)')\n",
    "#plt.show()\n",
    "\n",
    "# Definir la probabilidad de transición de \"i\" a \"j\"\n",
    "i, j = 5, 9\n",
    "t = 2\n",
    "Pi_ij = probabilidad_transicion(vector_estados, numero_estados, i, j) * t\n",
    "print('Pi_ij =', Pi_ij)"
   ]
  },
  {
   "cell_type": "code",
   "execution_count": null,
   "metadata": {},
   "outputs": [],
   "source": []
  }
 ],
 "metadata": {
  "kernelspec": {
   "display_name": "Python 3",
   "language": "python",
   "name": "python3"
  },
  "language_info": {
   "codemirror_mode": {
    "name": "ipython",
    "version": 3
   },
   "file_extension": ".py",
   "mimetype": "text/x-python",
   "name": "python",
   "nbconvert_exporter": "python",
   "pygments_lexer": "ipython3",
   "version": "3.8.3"
  }
 },
 "nbformat": 4,
 "nbformat_minor": 4
}
